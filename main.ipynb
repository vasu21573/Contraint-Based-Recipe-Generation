{
 "cells": [
  {
   "cell_type": "code",
   "execution_count": 1,
   "id": "b2d732cb-440b-4d54-81ce-6d33525d6108",
   "metadata": {
    "editable": true,
    "slideshow": {
     "slide_type": ""
    },
    "tags": []
   },
   "outputs": [],
   "source": [
    "CONSTRAINTS={\n",
    "    \"calories\":{\n",
    "        \"min\":200,\n",
    "        \"max\":300\n",
    "    },\n",
    "    # \"proteins\":{\n",
    "    #     \"min\":20,\n",
    "    #     \"max\":50\n",
    "    # },\n",
    "    # \"fats\":{\n",
    "    #     \"min\":10,\n",
    "    #     \"max\":30\n",
    "    # },\n",
    "}\n",
    "\n",
    "INGREDIENTS=[\"milk\",\"sugar\",\"honey\",\"bread\"]\n",
    "\n"
   ]
  },
  {
   "cell_type": "code",
   "execution_count": 2,
   "id": "74c429e8",
   "metadata": {
    "editable": true,
    "papermill": {
     "duration": 0.018473,
     "end_time": "2024-10-16T22:26:18.743301",
     "exception": false,
     "start_time": "2024-10-16T22:26:18.724828",
     "status": "completed"
    },
    "slideshow": {
     "slide_type": ""
    },
    "tags": []
   },
   "outputs": [
    {
     "name": "stderr",
     "output_type": "stream",
     "text": [
      "/home/vinayak21574/env/lib/python3.8/site-packages/tqdm/auto.py:21: TqdmWarning: IProgress not found. Please update jupyter and ipywidgets. See https://ipywidgets.readthedocs.io/en/stable/user_install.html\n",
      "  from .autonotebook import tqdm as notebook_tqdm\n",
      "2024-12-01 02:40:26.953723: I tensorflow/core/platform/cpu_feature_guard.cc:182] This TensorFlow binary is optimized to use available CPU instructions in performance-critical operations.\n",
      "To enable the following instructions: AVX2 FMA, in other operations, rebuild TensorFlow with the appropriate compiler flags.\n",
      "2024-12-01 02:40:27.473781: W tensorflow/compiler/tf2tensorrt/utils/py_utils.cc:38] TF-TRT Warning: Could not find TensorRT\n"
     ]
    }
   ],
   "source": [
    "import os\n",
    "import re\n",
    "from convex_optimisation import Optimisation\n",
    "from conversational_agent import LLM\n",
    "from ratatouille_model_parser import RatatouilleModel\n",
    "\n",
    "import logging\n",
    "logging.getLogger(\"transformers\").setLevel(logging.ERROR)"
   ]
  },
  {
   "cell_type": "code",
   "execution_count": null,
   "id": "fed0aaef-ddba-4cf3-be10-4e84c5bc1652",
   "metadata": {
    "editable": true,
    "slideshow": {
     "slide_type": ""
    },
    "tags": []
   },
   "outputs": [],
   "source": [
    "! export HUGGINGFACE_API_KEY=<YOUR_TOKEN_HERE>"
   ]
  },
  {
   "cell_type": "code",
   "execution_count": 4,
   "id": "fafa3e8e-eab4-4b64-abe1-955ff74a3cfa",
   "metadata": {
    "editable": true,
    "slideshow": {
     "slide_type": ""
    },
    "tags": []
   },
   "outputs": [],
   "source": [
    "here=RatatouilleModel()\n",
    "RECIPE=here.generate_recipe(INGREDIENTS)"
   ]
  },
  {
   "cell_type": "code",
   "execution_count": 5,
   "id": "11b329ff",
   "metadata": {
    "papermill": {
     "duration": 0.017998,
     "end_time": "2024-10-16T22:26:18.799247",
     "exception": false,
     "start_time": "2024-10-16T22:26:18.781249",
     "status": "completed"
    },
    "tags": []
   },
   "outputs": [
    {
     "name": "stderr",
     "output_type": "stream",
     "text": [
      "Loading checkpoint shards: 100%|██████████████████████████████████████████████████████████| 4/4 [00:04<00:00,  1.09s/it]\n"
     ]
    }
   ],
   "source": [
    "model=LLM(\"meta-llama/Llama-3.1-8B-Instruct\")"
   ]
  },
  {
   "cell_type": "code",
   "execution_count": 6,
   "id": "61a006c4-1148-45c1-81e7-bf428df3f120",
   "metadata": {
    "editable": true,
    "slideshow": {
     "slide_type": ""
    },
    "tags": []
   },
   "outputs": [],
   "source": [
    "task=None\n",
    "# unique_ingred=None"
   ]
  },
  {
   "cell_type": "code",
   "execution_count": null,
   "id": "873d2c5d-216d-4876-be15-c33b6c778957",
   "metadata": {},
   "outputs": [],
   "source": [
    "with open(\"./resources/prompt_phrase2gram.txt\",\"r\") as f:\n",
    "    task=f.read()\n"
   ]
  },
  {
   "cell_type": "code",
   "execution_count": 8,
   "id": "189b70e3-8e4c-41ca-aba5-4a273f5c7b27",
   "metadata": {},
   "outputs": [],
   "source": [
    "res=model.chat(message=RECIPE[\"ingredients\"],persona=task)"
   ]
  },
  {
   "cell_type": "code",
   "execution_count": 9,
   "id": "0499be99-c4c8-4861-a215-46ea218b7fbe",
   "metadata": {},
   "outputs": [],
   "source": [
    "pattern = r'\\(([^,]+), ([^)]+)\\)'\n",
    "\n",
    "matches = re.findall(pattern, res)\n",
    "\n",
    "result = [(item.strip(), weight.strip()) for item, weight in matches]\n"
   ]
  },
  {
   "cell_type": "code",
   "execution_count": 10,
   "id": "51575a16-b6ab-4473-9545-98a74b24eba9",
   "metadata": {},
   "outputs": [],
   "source": [
    "INGRED=[]\n",
    "QTY=[]\n",
    "\n",
    "for a,b in result:\n",
    "    INGRED.append(a)\n",
    "    QTY.append(max(float(b),1))"
   ]
  },
  {
   "cell_type": "code",
   "execution_count": 11,
   "id": "ac8b426c-9a8e-476d-b55b-1d5474e14e6d",
   "metadata": {},
   "outputs": [],
   "source": [
    "here=Optimisation(INGRED,QTY,CONSTRAINTS)"
   ]
  },
  {
   "cell_type": "code",
   "execution_count": 12,
   "id": "5dc7a125-0668-4827-bf42-d47d85fa5096",
   "metadata": {},
   "outputs": [],
   "source": [
    "qty,nutrient_profile=here.fit()\n"
   ]
  },
  {
   "cell_type": "code",
   "execution_count": 13,
   "id": "f0f2ec49-bf90-4012-a8c4-c94821de148d",
   "metadata": {},
   "outputs": [],
   "source": [
    "QUANTITIES=[]\n",
    "\n",
    "for name,q in zip(INGRED,qty):\n",
    "    QUANTITIES.append((name,q))"
   ]
  },
  {
   "cell_type": "code",
   "execution_count": 14,
   "id": "a8ad5741-6e08-4697-a721-b4bebaf846ce",
   "metadata": {},
   "outputs": [
    {
     "data": {
      "text/plain": [
       "'Pears Congri Traditional'"
      ]
     },
     "execution_count": 14,
     "metadata": {},
     "output_type": "execute_result"
    }
   ],
   "source": [
    "RECIPE[\"title\"]"
   ]
  },
  {
   "cell_type": "code",
   "execution_count": 15,
   "id": "a6b776e5-cd0a-4919-99bc-61b081eac970",
   "metadata": {},
   "outputs": [
    {
     "data": {
      "text/plain": [
       "[('pear', 47.04),\n",
       " ('salt', 0.16),\n",
       " ('water', 7.06),\n",
       " ('sugar', 3.14),\n",
       " ('egg', 0.16),\n",
       " ('honey', 0.16),\n",
       " ('vanilla extract', 0.08),\n",
       " ('flour', 19.6),\n",
       " ('sugar', 10.5),\n",
       " ('egg yolks', 0.47),\n",
       " ('flour', 19.6),\n",
       " ('demerara sugar', 7.06),\n",
       " ('salt', 0.04),\n",
       " ('pepper', 0.02)]"
      ]
     },
     "execution_count": 15,
     "metadata": {},
     "output_type": "execute_result"
    }
   ],
   "source": [
    "QUANTITIES"
   ]
  },
  {
   "cell_type": "code",
   "execution_count": 16,
   "id": "83464229-14f8-4758-a9b5-869a7cd371a7",
   "metadata": {},
   "outputs": [
    {
     "data": {
      "text/plain": [
       "['Preheat oven to 200c',\n",
       " 'Cut the pears into quarters and sprinkle with salt',\n",
       " 'Place in oven and bake until just tender and the pears are soft enough to break apart with a fork, approximately 30 to 40 minutes',\n",
       " 'Remove from oven and cool slightly',\n",
       " 'Remove the pears from the oven and let cool a little before opening the pears to remove core',\n",
       " 'Cut each quarter into 4 equal pieces',\n",
       " 'Set aside',\n",
       " 'Using a mortar and pestle, mash the salt and sugar together',\n",
       " 'Add the egg, honey and vanilla extract and mix together',\n",
       " 'Add the flour and mix',\n",
       " 'Add the pears and mix gently',\n",
       " 'Add the flour gradually, mixing well until the mixture forms into a smooth dough',\n",
       " 'Using hands or your hands, form the dough into cylinders about 2 cm in diameter and 8 cm in height',\n",
       " 'Place on a greased baking sheet',\n",
       " 'Bake in the preheated oven until light golden brown, approximately 10 to 12 minutes, rotating the tray halfway through baking',\n",
       " 'Set aside and allow to cool before serving',\n",
       " 'To make the creme anglaise, in a large bowl, beat together the egg yolks, sugar, salt and pepper',\n",
       " 'Add a splash of water to the mixture to make a thin glaze',\n",
       " 'Dip each creme anglaise half in the glaze and roll in dried breadcrumbs',\n",
       " 'Repeat with the rest of the creme anglaise',\n",
       " 'Dust with extra dried breadcrumbs',\n",
       " 'Serve warm']"
      ]
     },
     "execution_count": 16,
     "metadata": {},
     "output_type": "execute_result"
    }
   ],
   "source": [
    "RECIPE[\"instructions\"]"
   ]
  },
  {
   "cell_type": "code",
   "execution_count": 17,
   "id": "54375088-e839-475b-a092-97a618813a66",
   "metadata": {},
   "outputs": [
    {
     "data": {
      "text/plain": [
       "{'calories': 250.06, 'proteins': 4.24, 'fats': 0.47}"
      ]
     },
     "execution_count": 17,
     "metadata": {},
     "output_type": "execute_result"
    }
   ],
   "source": [
    "nutrient_profile"
   ]
  },
  {
   "cell_type": "code",
   "execution_count": null,
   "id": "0c0f2c88-5336-4bec-8416-f3c6c9d38e03",
   "metadata": {},
   "outputs": [],
   "source": []
  }
 ],
 "metadata": {
  "kaggle": {
   "accelerator": "none",
   "dataSources": [
    {
     "datasetId": 5890188,
     "sourceId": 9644949,
     "sourceType": "datasetVersion"
    }
   ],
   "isGpuEnabled": false,
   "isInternetEnabled": true,
   "language": "python",
   "sourceType": "notebook"
  },
  "kernelspec": {
   "display_name": "Python 3 (ipykernel)",
   "language": "python",
   "name": "python3"
  },
  "language_info": {
   "codemirror_mode": {
    "name": "ipython",
    "version": 3
   },
   "file_extension": ".py",
   "mimetype": "text/x-python",
   "name": "python",
   "nbconvert_exporter": "python",
   "pygments_lexer": "ipython3",
   "version": "3.8.10"
  },
  "papermill": {
   "default_parameters": {},
   "duration": 2695.940926,
   "end_time": "2024-10-16T23:11:11.492745",
   "environment_variables": {},
   "exception": null,
   "input_path": "__notebook__.ipynb",
   "output_path": "__notebook__.ipynb",
   "parameters": {},
   "start_time": "2024-10-16T22:26:15.551819",
   "version": "2.6.0"
  }
 },
 "nbformat": 4,
 "nbformat_minor": 5
}
